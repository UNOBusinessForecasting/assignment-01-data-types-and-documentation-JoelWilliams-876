{
  "cells": [
    {
      "cell_type": "markdown",
      "id": "49d95ff0-9ba8-41fc-9269-fbaccae2f6a8",
      "metadata": {
        "id": "49d95ff0-9ba8-41fc-9269-fbaccae2f6a8"
      },
      "source": [
        "## Why do I need to know this?\n",
        "\n",
        "Programming is a way to allow us as humans to manipulate information (data) on a scale much larger than we would otherwise be able to handle. Speaking anecdotally, on a good day my brain is able to handle one mathematical operation per second. I can remember a few things at once, and a few more things if I spend a while memorizing them. On the other hand, my laptop can handle millions of mathematical operations per second, and can \"memorize\" the contents of a spreadsheet fast enough that to me it feels instantaneous. When we use Python, we are accessing the amped up computational power provided by our computers to enable us to focus on thinking critically, and letting our computer handle the rest.\n",
        "\n",
        "How do computers handle data? At the most basic level, it all gets digested into the same form: 1s and 0s. Were we to attempt a very complete treatment of information and computation, we would need to start there. Suffice it to say that computers need all information to be concrete, and that information that cannot be quantified or written in a fixed form is no good.\n",
        "\n",
        "Instead of starting with binary values (the 1s and 0s above), we have the privilege of experiencing our interactions with computers through a high-level programming language: Python. High-level is an indication that the programming language is closer to a human-readable form than a computer-readable form. While we are working furiously to do our work writing in Python, the computer is translating everything that we say (in Python) to machine-speak. High-level code is slower to run than low-level (easier for machines to translate) code, but we accept that tradeoff in order to minimize the time and effort we spend in writing our code.\n",
        "\n",
        "Writing Python code is MUCH easier than writing code in just about any other language. Trust me.\n",
        "\n",
        "## Then how do I start?\n",
        "\n",
        "The first thing that we need to understand when we start to interact with Python is the language's ability to represent different kinds of information. The types of information that can be stored, and the ways in which we can store them, inform the choices that we will make as we begin to programmatically handle the information that is available to us. Think of each method of storing information as storage bins like you might find in a kitchen: one bin is intended to hold sugar, another flour, and another rice. Sure, you could insist on putting rice in the sugar bin, but the next chef to use the kitchen might not appreciate your choice. In programming, we should look for the appropriate storage bin for the information that we are dealing with in any specific context\n",
        "\n",
        "In programming, we label the different storage bins **data types**.\n",
        "\n",
        "A data type is an **object** (we will discuss this more later) that is designed to handle a specific kind of information. Let's take a look at a few different types:\n",
        "\n",
        "## Variables\n",
        "\n",
        "In Python, we can work with data as if the Python interpreter (the thing that runs our code) were a fancy calculator, and we can just type all the information we need into the interpreter each time we run code. This is not feasible, however, for larger projects. In those cases, we store information in what are called **variables**.\n",
        "\n",
        "Any data type can be stored as a variable. The names we give these variables are nearly infinite. There are a few rules and guidelines (rules will be bolded) on how we should name them, though:\n",
        "- **Names cannot start with numbers**\n",
        "- Names should be lower case\n",
        "- **Names can include letters, numbers, and underscores**\n",
        "- Names should be descriptive\n",
        "- Names should not be reserved words\n",
        "\n",
        "We store information as a variable in the following way:"
      ]
    },
    {
      "cell_type": "code",
      "execution_count": null,
      "id": "c564b2fa-a255-47a6-b18e-1446e2032cdd",
      "metadata": {
        "id": "c564b2fa-a255-47a6-b18e-1446e2032cdd"
      },
      "outputs": [],
      "source": [
        "mySentence = \"This is my first variable!\""
      ]
    },
    {
      "cell_type": "markdown",
      "id": "b8a05027-9867-41aa-8ed3-9b5a235ea3fd",
      "metadata": {
        "id": "b8a05027-9867-41aa-8ed3-9b5a235ea3fd"
      },
      "source": [
        "We have now indicated to Python that it should remember (until further notice or the end of our program) that `mySentence` is a variable containing the value `\"This is my first variable!\"`. We can ask Python to provide this variable for us as we continue to create code. Outside of exercises, we will not store information as variables during this class period."
      ]
    },
    {
      "cell_type": "markdown",
      "id": "4de02962-98f2-4080-a1fc-ced623b90204",
      "metadata": {
        "id": "4de02962-98f2-4080-a1fc-ced623b90204"
      },
      "source": [
        "## Numbers"
      ]
    },
    {
      "cell_type": "markdown",
      "id": "b09c4ffe-5d3b-4199-8397-89a9908edfad",
      "metadata": {
        "id": "b09c4ffe-5d3b-4199-8397-89a9908edfad"
      },
      "source": [
        "There are several different data types to handle numbers. Let's talk about **integers** and **floating-point numbers**. One really cool thing about Python is that it tries to do the work of switching between integer and floating point numbers for us as we do different calculations requiring one or the other. Let's explore briefly how each one works.\n",
        "\n",
        "### Integers\n",
        "\n",
        "**Integers** represent whole numbers, and _cannot_ represent any number with a decimal. We can perform simple operations using our arithmetic operators (+,-,\\*,\\/)."
      ]
    },
    {
      "cell_type": "code",
      "execution_count": 1,
      "id": "ba83388d-6a4e-4863-87b0-32fb9b76af5d",
      "metadata": {
        "colab": {
          "base_uri": "https://localhost:8080/"
        },
        "id": "ba83388d-6a4e-4863-87b0-32fb9b76af5d",
        "outputId": "08ddb719-1e7a-4c59-d8a9-9898f09cefd6"
      },
      "outputs": [
        {
          "output_type": "execute_result",
          "data": {
            "text/plain": [
              "4"
            ]
          },
          "metadata": {},
          "execution_count": 1
        }
      ],
      "source": [
        "2 + 2"
      ]
    },
    {
      "cell_type": "code",
      "execution_count": 2,
      "id": "b2fc2618-573f-4d85-b449-da422b4a84f5",
      "metadata": {
        "colab": {
          "base_uri": "https://localhost:8080/"
        },
        "id": "b2fc2618-573f-4d85-b449-da422b4a84f5",
        "outputId": "92d11cad-e8ec-4f07-d72a-e6f3dd8d75a2"
      },
      "outputs": [
        {
          "output_type": "execute_result",
          "data": {
            "text/plain": [
              "77"
            ]
          },
          "metadata": {},
          "execution_count": 2
        }
      ],
      "source": [
        "87 - 10"
      ]
    },
    {
      "cell_type": "code",
      "execution_count": 3,
      "id": "e54ed467-ca48-4d70-abf8-6a9a9f3e28d4",
      "metadata": {
        "colab": {
          "base_uri": "https://localhost:8080/"
        },
        "id": "e54ed467-ca48-4d70-abf8-6a9a9f3e28d4",
        "outputId": "38160243-e214-4f5b-ca44-9978ce8c3270"
      },
      "outputs": [
        {
          "output_type": "execute_result",
          "data": {
            "text/plain": [
              "5.0"
            ]
          },
          "metadata": {},
          "execution_count": 3
        }
      ],
      "source": [
        "5 / 1"
      ]
    },
    {
      "cell_type": "code",
      "execution_count": 4,
      "id": "032e993e-c148-472c-a5c9-4acae70249fa",
      "metadata": {
        "colab": {
          "base_uri": "https://localhost:8080/"
        },
        "id": "032e993e-c148-472c-a5c9-4acae70249fa",
        "outputId": "89fe172b-d03a-41b8-c413-ade26aafc4c8"
      },
      "outputs": [
        {
          "output_type": "execute_result",
          "data": {
            "text/plain": [
              "24"
            ]
          },
          "metadata": {},
          "execution_count": 4
        }
      ],
      "source": [
        "8 * 3"
      ]
    },
    {
      "cell_type": "markdown",
      "id": "a54f2559-4b7c-4a3d-b53e-5a138602666b",
      "metadata": {
        "id": "a54f2559-4b7c-4a3d-b53e-5a138602666b"
      },
      "source": [
        "It is interesting to note that division resulted in a floating-point number. This allows us to divide integers, even when the result will not be an integer itself, and adds convenience to our mathematical functions. Python also allows us to mandate that the result of division be an integer by using the \\/\\/ operator. Note the different outputs below:"
      ]
    },
    {
      "cell_type": "code",
      "execution_count": 5,
      "id": "66c90b49-4a96-4d37-8651-ca222358389d",
      "metadata": {
        "colab": {
          "base_uri": "https://localhost:8080/"
        },
        "id": "66c90b49-4a96-4d37-8651-ca222358389d",
        "outputId": "ff6c2f33-dbb4-409f-ff75-62fcdf81a401"
      },
      "outputs": [
        {
          "output_type": "execute_result",
          "data": {
            "text/plain": [
              "2.5"
            ]
          },
          "metadata": {},
          "execution_count": 5
        }
      ],
      "source": [
        "# True divison operator\n",
        "5 / 2"
      ]
    },
    {
      "cell_type": "code",
      "execution_count": 6,
      "id": "1ccd32a7-07c3-435f-bb45-7d0a0da6b541",
      "metadata": {
        "colab": {
          "base_uri": "https://localhost:8080/"
        },
        "id": "1ccd32a7-07c3-435f-bb45-7d0a0da6b541",
        "outputId": "eaaf5792-3fc5-4f1a-a05f-97a104cd1a76"
      },
      "outputs": [
        {
          "output_type": "execute_result",
          "data": {
            "text/plain": [
              "2"
            ]
          },
          "metadata": {},
          "execution_count": 6
        }
      ],
      "source": [
        "# Floor division operator\n",
        "5 // 2"
      ]
    },
    {
      "cell_type": "markdown",
      "id": "9e4d717b-1594-46be-b1e2-ab75522c8b5d",
      "metadata": {
        "id": "9e4d717b-1594-46be-b1e2-ab75522c8b5d"
      },
      "source": [
        "We can also perform exponentiation by using the \\*\\* operator:"
      ]
    },
    {
      "cell_type": "code",
      "execution_count": 7,
      "id": "8c8aaaca-a1ff-4a60-b1b3-90ec3ee097cc",
      "metadata": {
        "colab": {
          "base_uri": "https://localhost:8080/"
        },
        "id": "8c8aaaca-a1ff-4a60-b1b3-90ec3ee097cc",
        "outputId": "92c6991b-93f9-4603-9261-a4a2c64a20d9"
      },
      "outputs": [
        {
          "output_type": "execute_result",
          "data": {
            "text/plain": [
              "25"
            ]
          },
          "metadata": {},
          "execution_count": 7
        }
      ],
      "source": [
        "5 ** 2"
      ]
    },
    {
      "cell_type": "markdown",
      "id": "5d83f3be-e424-4510-a55b-34d0a62793d9",
      "metadata": {
        "id": "5d83f3be-e424-4510-a55b-34d0a62793d9"
      },
      "source": [
        "Finally, we can attempt to force values to become integers by using the `int()` command, though not all values can be made into integers:"
      ]
    },
    {
      "cell_type": "code",
      "execution_count": 8,
      "id": "a77d9a50-56d3-407c-b004-e7b868fbfe5f",
      "metadata": {
        "colab": {
          "base_uri": "https://localhost:8080/"
        },
        "id": "a77d9a50-56d3-407c-b004-e7b868fbfe5f",
        "outputId": "9e184f19-0de9-43b8-d7f0-31814212fc42"
      },
      "outputs": [
        {
          "output_type": "execute_result",
          "data": {
            "text/plain": [
              "37"
            ]
          },
          "metadata": {},
          "execution_count": 8
        }
      ],
      "source": [
        "int(37.5)"
      ]
    },
    {
      "cell_type": "code",
      "execution_count": 9,
      "id": "b9c9231f-f073-4f84-83ca-39848fedeac6",
      "metadata": {
        "colab": {
          "base_uri": "https://localhost:8080/"
        },
        "id": "b9c9231f-f073-4f84-83ca-39848fedeac6",
        "outputId": "38afc276-14d7-4191-934e-42894e80304d"
      },
      "outputs": [
        {
          "output_type": "execute_result",
          "data": {
            "text/plain": [
              "1"
            ]
          },
          "metadata": {},
          "execution_count": 9
        }
      ],
      "source": [
        "int(True)"
      ]
    },
    {
      "cell_type": "code",
      "execution_count": 10,
      "id": "f269eae0-d1ce-411f-b73a-21e1067d5bbc",
      "metadata": {
        "colab": {
          "base_uri": "https://localhost:8080/"
        },
        "id": "f269eae0-d1ce-411f-b73a-21e1067d5bbc",
        "outputId": "22b00508-7218-4dcc-9b48-4fde3edfbc99"
      },
      "outputs": [
        {
          "output_type": "execute_result",
          "data": {
            "text/plain": [
              "0"
            ]
          },
          "metadata": {},
          "execution_count": 10
        }
      ],
      "source": [
        "int(False)"
      ]
    },
    {
      "cell_type": "code",
      "execution_count": 68,
      "id": "3cf13aaa-9e29-4c3a-9535-aafeeef97b56",
      "metadata": {
        "colab": {
          "base_uri": "https://localhost:8080/",
          "height": 141
        },
        "id": "3cf13aaa-9e29-4c3a-9535-aafeeef97b56",
        "outputId": "d26e6e39-9dab-4499-bbde-870aa14d20a5"
      },
      "outputs": [
        {
          "output_type": "error",
          "ename": "ValueError",
          "evalue": "invalid literal for int() with base 10: 'text'",
          "traceback": [
            "\u001b[0;31m---------------------------------------------------------------------------\u001b[0m",
            "\u001b[0;31mValueError\u001b[0m                                Traceback (most recent call last)",
            "\u001b[0;32m<ipython-input-68-f3a57c1fa0db>\u001b[0m in \u001b[0;36m<cell line: 1>\u001b[0;34m()\u001b[0m\n\u001b[0;32m----> 1\u001b[0;31m \u001b[0mint\u001b[0m\u001b[0;34m(\u001b[0m\u001b[0;34m\"text\"\u001b[0m\u001b[0;34m)\u001b[0m\u001b[0;34m\u001b[0m\u001b[0;34m\u001b[0m\u001b[0m\n\u001b[0m",
            "\u001b[0;31mValueError\u001b[0m: invalid literal for int() with base 10: 'text'"
          ]
        }
      ],
      "source": [
        "int(\"text\")"
      ]
    },
    {
      "cell_type": "markdown",
      "id": "786904f8-2e83-4881-b84a-8cdfb6f067ec",
      "metadata": {
        "id": "786904f8-2e83-4881-b84a-8cdfb6f067ec"
      },
      "source": [
        "### Floating-Point Numbers\n",
        "\n",
        "Floating point numbers are typically called **floats**, and allow us to make use of decimal numbers in order to increase the precision of our computations. Floats are probably the most common type of number you will work with, since most mathematical operations cannot be guaranteed to result in integers. Floats can use all of the same arithmetic operators as integers, and can be used in combination with integers when using those operators:"
      ]
    },
    {
      "cell_type": "code",
      "execution_count": 12,
      "id": "f76fb3f5-2d02-403a-9991-fc268ee5cf30",
      "metadata": {
        "colab": {
          "base_uri": "https://localhost:8080/"
        },
        "id": "f76fb3f5-2d02-403a-9991-fc268ee5cf30",
        "outputId": "0a0e8646-4715-4c29-f2f4-6590e28762a3"
      },
      "outputs": [
        {
          "output_type": "execute_result",
          "data": {
            "text/plain": [
              "4.5"
            ]
          },
          "metadata": {},
          "execution_count": 12
        }
      ],
      "source": [
        "2 + 2.5"
      ]
    },
    {
      "cell_type": "code",
      "execution_count": 13,
      "id": "ece3a4a2-1c91-4bbb-9df1-a3d5a4bf6e87",
      "metadata": {
        "colab": {
          "base_uri": "https://localhost:8080/"
        },
        "id": "ece3a4a2-1c91-4bbb-9df1-a3d5a4bf6e87",
        "outputId": "95bcfe26-2291-4b61-d643-d1e50eec0b58"
      },
      "outputs": [
        {
          "output_type": "execute_result",
          "data": {
            "text/plain": [
              "-13.5"
            ]
          },
          "metadata": {},
          "execution_count": 13
        }
      ],
      "source": [
        "87.0 - 100.5"
      ]
    },
    {
      "cell_type": "code",
      "execution_count": 14,
      "id": "33bca277-06ff-4579-9411-f8efc58ee79f",
      "metadata": {
        "colab": {
          "base_uri": "https://localhost:8080/"
        },
        "id": "33bca277-06ff-4579-9411-f8efc58ee79f",
        "outputId": "c5f1bddb-30fe-4541-f6c8-49d5f50cd424"
      },
      "outputs": [
        {
          "output_type": "execute_result",
          "data": {
            "text/plain": [
              "2.857142857142857"
            ]
          },
          "metadata": {},
          "execution_count": 14
        }
      ],
      "source": [
        "10 / 3.5"
      ]
    },
    {
      "cell_type": "code",
      "execution_count": 15,
      "id": "ab092b21-1c5e-4f1e-9386-2be4860dac60",
      "metadata": {
        "colab": {
          "base_uri": "https://localhost:8080/"
        },
        "id": "ab092b21-1c5e-4f1e-9386-2be4860dac60",
        "outputId": "713a8af0-8da0-438e-bca0-46de9da902e2"
      },
      "outputs": [
        {
          "output_type": "execute_result",
          "data": {
            "text/plain": [
              "4.0"
            ]
          },
          "metadata": {},
          "execution_count": 15
        }
      ],
      "source": [
        "5.3 // 1.2"
      ]
    },
    {
      "cell_type": "code",
      "execution_count": 16,
      "id": "ceda5e5e-acc5-49bf-b9b7-53a214bbb1b8",
      "metadata": {
        "colab": {
          "base_uri": "https://localhost:8080/"
        },
        "id": "ceda5e5e-acc5-49bf-b9b7-53a214bbb1b8",
        "outputId": "35c5e8d4-ced4-4530-f43b-e2bdeebca9f2"
      },
      "outputs": [
        {
          "output_type": "execute_result",
          "data": {
            "text/plain": [
              "49.95"
            ]
          },
          "metadata": {},
          "execution_count": 16
        }
      ],
      "source": [
        "9.99 * 5"
      ]
    },
    {
      "cell_type": "code",
      "execution_count": 17,
      "id": "703f9353-c637-461a-90e6-fee576233a52",
      "metadata": {
        "colab": {
          "base_uri": "https://localhost:8080/"
        },
        "id": "703f9353-c637-461a-90e6-fee576233a52",
        "outputId": "e38a652f-2fe2-4ee5-f4d4-b8cbdd70e7a4"
      },
      "outputs": [
        {
          "output_type": "execute_result",
          "data": {
            "text/plain": [
              "9.86902225"
            ]
          },
          "metadata": {},
          "execution_count": 17
        }
      ],
      "source": [
        "3.1415 ** 2"
      ]
    },
    {
      "cell_type": "markdown",
      "id": "36ee6b4f-402e-4b71-b356-58e82826727d",
      "metadata": {
        "id": "36ee6b4f-402e-4b71-b356-58e82826727d"
      },
      "source": [
        "We can convert numbers and other values to floats by using the `float()` function to **coerce** the value to become a float-type object:"
      ]
    },
    {
      "cell_type": "code",
      "execution_count": 18,
      "id": "ce7f13df-225b-4d87-a600-b58dde52c7ac",
      "metadata": {
        "colab": {
          "base_uri": "https://localhost:8080/"
        },
        "id": "ce7f13df-225b-4d87-a600-b58dde52c7ac",
        "outputId": "fcfe2efa-3b93-4cb9-b710-9176332ba73a"
      },
      "outputs": [
        {
          "output_type": "execute_result",
          "data": {
            "text/plain": [
              "1.0"
            ]
          },
          "metadata": {},
          "execution_count": 18
        }
      ],
      "source": [
        "float(1)"
      ]
    },
    {
      "cell_type": "code",
      "execution_count": 19,
      "id": "1fa47829-e734-4b2f-8e61-7e54833b5723",
      "metadata": {
        "colab": {
          "base_uri": "https://localhost:8080/"
        },
        "id": "1fa47829-e734-4b2f-8e61-7e54833b5723",
        "outputId": "71965f89-95de-425b-a36b-e625e75e8455"
      },
      "outputs": [
        {
          "output_type": "execute_result",
          "data": {
            "text/plain": [
              "0.0"
            ]
          },
          "metadata": {},
          "execution_count": 19
        }
      ],
      "source": [
        "float(False)"
      ]
    },
    {
      "cell_type": "code",
      "execution_count": 20,
      "id": "a6ea464e-8320-4fd1-b7cf-8409d11a0993",
      "metadata": {
        "colab": {
          "base_uri": "https://localhost:8080/",
          "height": 141
        },
        "id": "a6ea464e-8320-4fd1-b7cf-8409d11a0993",
        "outputId": "d7b55c0f-4582-4581-ef5e-1e7e17f84abd"
      },
      "outputs": [
        {
          "output_type": "error",
          "ename": "ValueError",
          "evalue": "could not convert string to float: 'text'",
          "traceback": [
            "\u001b[0;31m---------------------------------------------------------------------------\u001b[0m",
            "\u001b[0;31mValueError\u001b[0m                                Traceback (most recent call last)",
            "\u001b[0;32m<ipython-input-20-7f533111535f>\u001b[0m in \u001b[0;36m<cell line: 1>\u001b[0;34m()\u001b[0m\n\u001b[0;32m----> 1\u001b[0;31m \u001b[0mfloat\u001b[0m\u001b[0;34m(\u001b[0m\u001b[0;34m\"text\"\u001b[0m\u001b[0;34m)\u001b[0m\u001b[0;34m\u001b[0m\u001b[0;34m\u001b[0m\u001b[0m\n\u001b[0m",
            "\u001b[0;31mValueError\u001b[0m: could not convert string to float: 'text'"
          ]
        }
      ],
      "source": [
        "float(\"text\")"
      ]
    },
    {
      "cell_type": "markdown",
      "id": "6122fdb6-2b78-4846-892b-4e20ed3ad3ae",
      "metadata": {
        "id": "6122fdb6-2b78-4846-892b-4e20ed3ad3ae"
      },
      "source": [
        "### Solve-it!\n",
        "\n",
        "In the cell with the initial comment `#si-sphere`, calculate the volume of a sphere with radius 8. Google the function for calculating the volume of a sphere if needed. PLEASE DO NOT DELETE THE COMMENT OR YOU WILL NOT GET CREDIT.\n",
        "\n",
        "Store the answer in a variable called `vol`. You can test code in the cell below.\n",
        "\n",
        "Note: if you want to check your answer, simply add a line to your script containing `print(vol)`"
      ]
    },
    {
      "cell_type": "code",
      "execution_count": 79,
      "id": "ca7ed994-79ca-4192-957e-f496ff3d85f6",
      "metadata": {
        "colab": {
          "base_uri": "https://localhost:8080/"
        },
        "id": "ca7ed994-79ca-4192-957e-f496ff3d85f6",
        "outputId": "9a2c2e86-b7ae-432a-cfaa-665aad3d9629"
      },
      "outputs": [
        {
          "output_type": "stream",
          "name": "stdout",
          "text": [
            "2144.660821333333\n"
          ]
        }
      ],
      "source": [
        "#si-sphere\n",
        "vol = 4/3*3.141593*8**3\n",
        "print(vol)"
      ]
    },
    {
      "cell_type": "markdown",
      "id": "a8207891-984c-41e2-ab44-488a3fd18f3f",
      "metadata": {
        "id": "a8207891-984c-41e2-ab44-488a3fd18f3f"
      },
      "source": [
        "## Boolean Values\n",
        "\n",
        "A boolean object can take one of two values: true or false. This allows us to represent binary cases of truth, and to provide \"on/off\" switches in many different contexts. It is important to note that most objects in Python can be reduced to boolean values:"
      ]
    },
    {
      "cell_type": "code",
      "execution_count": 24,
      "id": "90bd1eae-f5f1-4198-95bd-2d41952d2e72",
      "metadata": {
        "colab": {
          "base_uri": "https://localhost:8080/"
        },
        "id": "90bd1eae-f5f1-4198-95bd-2d41952d2e72",
        "outputId": "e9ac62e1-79c9-4256-d37e-5bd3631d7e24"
      },
      "outputs": [
        {
          "output_type": "execute_result",
          "data": {
            "text/plain": [
              "True"
            ]
          },
          "metadata": {},
          "execution_count": 24
        }
      ],
      "source": [
        "bool(1)"
      ]
    },
    {
      "cell_type": "code",
      "execution_count": 25,
      "id": "ae40e3bb-7663-4ea7-a753-a7f7d31b41c8",
      "metadata": {
        "colab": {
          "base_uri": "https://localhost:8080/"
        },
        "id": "ae40e3bb-7663-4ea7-a753-a7f7d31b41c8",
        "outputId": "07c9879f-f2ba-4b44-9789-12f7e49cb3d3"
      },
      "outputs": [
        {
          "output_type": "execute_result",
          "data": {
            "text/plain": [
              "False"
            ]
          },
          "metadata": {},
          "execution_count": 25
        }
      ],
      "source": [
        "bool(0)"
      ]
    },
    {
      "cell_type": "code",
      "execution_count": 26,
      "id": "3523346b-43fe-4b02-8994-d390531748d5",
      "metadata": {
        "colab": {
          "base_uri": "https://localhost:8080/"
        },
        "id": "3523346b-43fe-4b02-8994-d390531748d5",
        "outputId": "959287c9-2cc4-4d49-bf15-441331dabbfc"
      },
      "outputs": [
        {
          "output_type": "execute_result",
          "data": {
            "text/plain": [
              "True"
            ]
          },
          "metadata": {},
          "execution_count": 26
        }
      ],
      "source": [
        "bool(\"text\")"
      ]
    },
    {
      "cell_type": "code",
      "execution_count": 27,
      "id": "e8ea0c4a-f816-4080-82a1-89367824a246",
      "metadata": {
        "colab": {
          "base_uri": "https://localhost:8080/"
        },
        "id": "e8ea0c4a-f816-4080-82a1-89367824a246",
        "outputId": "f2e6b916-b5d5-4426-b91f-3af4b02883cd"
      },
      "outputs": [
        {
          "output_type": "execute_result",
          "data": {
            "text/plain": [
              "False"
            ]
          },
          "metadata": {},
          "execution_count": 27
        }
      ],
      "source": [
        "bool(\"\")"
      ]
    },
    {
      "cell_type": "code",
      "execution_count": 28,
      "id": "dcdfabff-1934-45ad-a961-2596a7c285ab",
      "metadata": {
        "colab": {
          "base_uri": "https://localhost:8080/"
        },
        "id": "dcdfabff-1934-45ad-a961-2596a7c285ab",
        "outputId": "a346b060-692d-44f9-9f04-5b7095d03d55"
      },
      "outputs": [
        {
          "output_type": "execute_result",
          "data": {
            "text/plain": [
              "False"
            ]
          },
          "metadata": {},
          "execution_count": 28
        }
      ],
      "source": [
        "bool(None)"
      ]
    },
    {
      "cell_type": "markdown",
      "id": "13804067-1b75-4cb7-9d65-72910b73e254",
      "metadata": {
        "id": "13804067-1b75-4cb7-9d65-72910b73e254"
      },
      "source": [
        "Boolean values are typically used to evaluate logical statements as either true or false, and are often experienced in the context of comparisons of equality or magnitude. In order to make these comparisons, we introduce new operators to our vocabulary: \\>, \\<, \\=\\=, \\!\\=, \\&, \\| are the most common, although many others exist."
      ]
    },
    {
      "cell_type": "code",
      "execution_count": 29,
      "id": "a0c296ac-6a4c-48a5-a974-223dc7ba92b3",
      "metadata": {
        "colab": {
          "base_uri": "https://localhost:8080/"
        },
        "id": "a0c296ac-6a4c-48a5-a974-223dc7ba92b3",
        "outputId": "77d9745e-fb34-44d5-a5f0-9af2e7de1f7f"
      },
      "outputs": [
        {
          "output_type": "execute_result",
          "data": {
            "text/plain": [
              "False"
            ]
          },
          "metadata": {},
          "execution_count": 29
        }
      ],
      "source": [
        "# Testing for Equality of values\n",
        "\"text\" == \"Text\""
      ]
    },
    {
      "cell_type": "markdown",
      "id": "2bd75a2d-b8f6-4aa4-bd55-12a1c92b7359",
      "metadata": {
        "id": "2bd75a2d-b8f6-4aa4-bd55-12a1c92b7359"
      },
      "source": [
        "Note: strings are case sensitive when testing equality!"
      ]
    },
    {
      "cell_type": "code",
      "execution_count": 30,
      "id": "534a3ad8-f746-47f3-972a-ea818dd2b33a",
      "metadata": {
        "colab": {
          "base_uri": "https://localhost:8080/"
        },
        "id": "534a3ad8-f746-47f3-972a-ea818dd2b33a",
        "outputId": "416d23f6-de98-4e03-9e67-9abbe70d2848"
      },
      "outputs": [
        {
          "output_type": "execute_result",
          "data": {
            "text/plain": [
              "True"
            ]
          },
          "metadata": {},
          "execution_count": 30
        }
      ],
      "source": [
        "300 == 45+255"
      ]
    },
    {
      "cell_type": "code",
      "execution_count": 31,
      "id": "0596b507-c712-47f5-bdd0-7e392ff06a73",
      "metadata": {
        "colab": {
          "base_uri": "https://localhost:8080/"
        },
        "id": "0596b507-c712-47f5-bdd0-7e392ff06a73",
        "outputId": "2f05609a-84f1-41b2-8b7c-e9b1d950323f"
      },
      "outputs": [
        {
          "output_type": "execute_result",
          "data": {
            "text/plain": [
              "True"
            ]
          },
          "metadata": {},
          "execution_count": 31
        }
      ],
      "source": [
        "# Testing Inequalities\n",
        "10 < 100"
      ]
    },
    {
      "cell_type": "code",
      "execution_count": 32,
      "id": "a747dba4-2f81-4f97-ad36-0b7794a6deaf",
      "metadata": {
        "colab": {
          "base_uri": "https://localhost:8080/"
        },
        "id": "a747dba4-2f81-4f97-ad36-0b7794a6deaf",
        "outputId": "e2b5fb0e-55cd-408f-926d-44d7a843fc67"
      },
      "outputs": [
        {
          "output_type": "execute_result",
          "data": {
            "text/plain": [
              "False"
            ]
          },
          "metadata": {},
          "execution_count": 32
        }
      ],
      "source": [
        "10 > 100"
      ]
    },
    {
      "cell_type": "code",
      "execution_count": 33,
      "id": "6f4503e3-a10b-4565-899c-0b800682add9",
      "metadata": {
        "colab": {
          "base_uri": "https://localhost:8080/"
        },
        "id": "6f4503e3-a10b-4565-899c-0b800682add9",
        "outputId": "0365b405-20a5-45ef-8859-1a300b8ddb68"
      },
      "outputs": [
        {
          "output_type": "execute_result",
          "data": {
            "text/plain": [
              "True"
            ]
          },
          "metadata": {},
          "execution_count": 33
        }
      ],
      "source": [
        "# We can also test for \"less than or equal to\" conditions:\n",
        "10 <= 11"
      ]
    },
    {
      "cell_type": "code",
      "execution_count": 34,
      "id": "54e93933-45d9-4cce-9998-b983301078be",
      "metadata": {
        "colab": {
          "base_uri": "https://localhost:8080/"
        },
        "id": "54e93933-45d9-4cce-9998-b983301078be",
        "outputId": "d5e91143-8d38-45f5-d3a1-91911f244d1d"
      },
      "outputs": [
        {
          "output_type": "execute_result",
          "data": {
            "text/plain": [
              "True"
            ]
          },
          "metadata": {},
          "execution_count": 34
        }
      ],
      "source": [
        "11 <= 11"
      ]
    },
    {
      "cell_type": "code",
      "execution_count": 35,
      "id": "dd146874-48d2-4de2-b2d3-3e3fa70ea1af",
      "metadata": {
        "colab": {
          "base_uri": "https://localhost:8080/"
        },
        "id": "dd146874-48d2-4de2-b2d3-3e3fa70ea1af",
        "outputId": "caa4d62c-4296-4da2-924a-1ccaa5fb68a9"
      },
      "outputs": [
        {
          "output_type": "execute_result",
          "data": {
            "text/plain": [
              "True"
            ]
          },
          "metadata": {},
          "execution_count": 35
        }
      ],
      "source": [
        "# Inequality\n",
        "\n",
        "42 != \"the meaning of life, the universe, and everything\""
      ]
    },
    {
      "cell_type": "code",
      "execution_count": 36,
      "id": "f1d4990a-d2c6-4b89-9b9d-121dcc5b189c",
      "metadata": {
        "colab": {
          "base_uri": "https://localhost:8080/"
        },
        "id": "f1d4990a-d2c6-4b89-9b9d-121dcc5b189c",
        "outputId": "b4717732-f516-46ca-905b-784cac87e0d5"
      },
      "outputs": [
        {
          "output_type": "execute_result",
          "data": {
            "text/plain": [
              "False"
            ]
          },
          "metadata": {},
          "execution_count": 36
        }
      ],
      "source": [
        "# Match multiple conditions\n",
        "\n",
        "(42 == 10 + 32) & (\"other text\" != \"other text\") # False because one condition is not met"
      ]
    },
    {
      "cell_type": "code",
      "execution_count": null,
      "id": "eabd00f1-bf56-463a-89e5-5e5c0cf0e134",
      "metadata": {
        "id": "eabd00f1-bf56-463a-89e5-5e5c0cf0e134"
      },
      "outputs": [],
      "source": [
        "(42 == 10 + 32) & (\"text\" != \"other text\")"
      ]
    },
    {
      "cell_type": "code",
      "execution_count": 38,
      "id": "f235a1fc-a5b4-495a-b7b2-bc6890ac7fb7",
      "metadata": {
        "colab": {
          "base_uri": "https://localhost:8080/"
        },
        "id": "f235a1fc-a5b4-495a-b7b2-bc6890ac7fb7",
        "outputId": "b09e4c47-222d-4bf2-9f0b-54f492297a7e"
      },
      "outputs": [
        {
          "output_type": "execute_result",
          "data": {
            "text/plain": [
              "True"
            ]
          },
          "metadata": {},
          "execution_count": 38
        }
      ],
      "source": [
        "# Match one or more conditions\n",
        "\n",
        "(42 == 10 + 32) | (\"other text\" != \"other text\") # False because one condition is not met"
      ]
    },
    {
      "cell_type": "code",
      "execution_count": 37,
      "id": "30d177c2-4ba8-4c93-9bd6-6afff74d420c",
      "metadata": {
        "colab": {
          "base_uri": "https://localhost:8080/"
        },
        "id": "30d177c2-4ba8-4c93-9bd6-6afff74d420c",
        "outputId": "722d26be-092f-42ea-81d2-050b370eb6fb"
      },
      "outputs": [
        {
          "output_type": "execute_result",
          "data": {
            "text/plain": [
              "True"
            ]
          },
          "metadata": {},
          "execution_count": 37
        }
      ],
      "source": [
        "(42 == 10 + 32) | (\"text\" != \"other text\")"
      ]
    },
    {
      "cell_type": "markdown",
      "id": "3a74eaab-92ec-4883-9e48-60f85a54a5b6",
      "metadata": {
        "id": "3a74eaab-92ec-4883-9e48-60f85a54a5b6"
      },
      "source": [
        "### Solve-it!\n",
        "\n",
        "In the cell commented with `#si-sphereOrCube` (below), write a logical expression to determine if the volume of the sphere with radius 8 is greater than the volume of the cube with edge length 12. Deleting the initial comment will cause you to not earn credit.\n",
        "\n",
        "Store the solution as a variable named `sphereOrCube`. Use the cell below to practice or experiment."
      ]
    },
    {
      "cell_type": "code",
      "execution_count": 65,
      "id": "d924c375-683b-46d0-baf8-d8a6ac934df4",
      "metadata": {
        "colab": {
          "base_uri": "https://localhost:8080/"
        },
        "id": "d924c375-683b-46d0-baf8-d8a6ac934df4",
        "outputId": "f93d8ed7-1c8d-4eb7-c3a2-b822635f6500"
      },
      "outputs": [
        {
          "output_type": "stream",
          "name": "stdout",
          "text": [
            "True\n"
          ]
        }
      ],
      "source": [
        "#si-sphereOrCube\n",
        "sphereOrCube = 4/3*3.141593*8**3 > 12**3\n",
        "print(sphereOrCube)"
      ]
    },
    {
      "cell_type": "code",
      "source": [
        "sphereOrCube = 4/3*3.141593*8**3 > 12**3\n",
        "print(sphereOrCube)"
      ],
      "metadata": {
        "colab": {
          "base_uri": "https://localhost:8080/"
        },
        "id": "DFaOYEgBGY7z",
        "outputId": "efd3e6c1-70d8-44f3-8ec1-67d2353f5fb5"
      },
      "id": "DFaOYEgBGY7z",
      "execution_count": 66,
      "outputs": [
        {
          "output_type": "stream",
          "name": "stdout",
          "text": [
            "True\n"
          ]
        }
      ]
    },
    {
      "cell_type": "markdown",
      "id": "460459e4-b0e1-4f87-bb40-5c9b68765ed7",
      "metadata": {
        "id": "460459e4-b0e1-4f87-bb40-5c9b68765ed7"
      },
      "source": [
        "### Solve-it!\n",
        "\n",
        "In the cell commented with `#si-hei`, write a logical expression to determine if the string \"hei\" is the same as the string \"Hei\". Remember to be PRECISE!\n",
        "\n",
        "Store the solution as a variable named `twinStrings`. Use the cell below to practice."
      ]
    },
    {
      "cell_type": "code",
      "execution_count": 40,
      "id": "e3fbd105-2151-4988-8e00-0833e5f4b447",
      "metadata": {
        "id": "e3fbd105-2151-4988-8e00-0833e5f4b447"
      },
      "outputs": [],
      "source": [
        "#si-hei\n",
        "twinStrings = \"hei\" == \"Hei\""
      ]
    },
    {
      "cell_type": "code",
      "source": [
        "twinStrings = \"hei\" == \"Hei\""
      ],
      "metadata": {
        "id": "tyD6EIuGGThR"
      },
      "id": "tyD6EIuGGThR",
      "execution_count": 54,
      "outputs": []
    },
    {
      "cell_type": "markdown",
      "id": "598ec8a8-7727-4566-b4e8-67b76338aa33",
      "metadata": {
        "id": "598ec8a8-7727-4566-b4e8-67b76338aa33"
      },
      "source": [
        "## Strings\n",
        "\n",
        "Strings are the data type in Python that is used to store text data, or data that does not fit into other categories and can be best represented as text in some form. This might be text values proxying for job types, it might be sentences written in a document, or it might be a single character, like \"e\". Strings are immensely valuable for creating dense data, and have many built-in features (we call them **methods**) to improve our ability to handle strings. First, we create a string by putting some characters inside of quotation marks.\n",
        "\n",
        "### Choosing Quotation Marks\n",
        "\n",
        "The quotation marks indicating the start and end of strings can be \\\" or \\'. It is worth choosing carefully, however, because the quotation marks we use to denote a string limit the characters that we can place inside. If I use \\\", then double quotes cannot be used within my string (while single quotes can!). Conversely, using \\' to start and end a string means that we cannot use single quotes (often used to mark apostrophes within contractions in the English language) inside of our string."
      ]
    },
    {
      "cell_type": "code",
      "execution_count": 41,
      "id": "2e67db51-48cf-405d-ab18-11ce47d3ba08",
      "metadata": {
        "colab": {
          "base_uri": "https://localhost:8080/",
          "height": 35
        },
        "id": "2e67db51-48cf-405d-ab18-11ce47d3ba08",
        "outputId": "e307b32a-7637-44cd-b52f-ceafbaf238ce"
      },
      "outputs": [
        {
          "output_type": "execute_result",
          "data": {
            "text/plain": [
              "'this is a string'"
            ],
            "application/vnd.google.colaboratory.intrinsic+json": {
              "type": "string"
            }
          },
          "metadata": {},
          "execution_count": 41
        }
      ],
      "source": [
        "\"this is a string\""
      ]
    },
    {
      "cell_type": "code",
      "execution_count": 42,
      "id": "084775a0-08ac-4cf7-a81f-befdba119d1e",
      "metadata": {
        "colab": {
          "base_uri": "https://localhost:8080/",
          "height": 35
        },
        "id": "084775a0-08ac-4cf7-a81f-befdba119d1e",
        "outputId": "c417967d-6e9c-451f-d30a-638d06da7b5d"
      },
      "outputs": [
        {
          "output_type": "execute_result",
          "data": {
            "text/plain": [
              "\"this is a string with a 'quote' inside of it\""
            ],
            "application/vnd.google.colaboratory.intrinsic+json": {
              "type": "string"
            }
          },
          "metadata": {},
          "execution_count": 42
        }
      ],
      "source": [
        "\"this is a string with a 'quote' inside of it\""
      ]
    },
    {
      "cell_type": "code",
      "execution_count": 43,
      "id": "9c95dddc-c1cf-4bb2-b2f8-1e9255d114e3",
      "metadata": {
        "colab": {
          "base_uri": "https://localhost:8080/",
          "height": 35
        },
        "id": "9c95dddc-c1cf-4bb2-b2f8-1e9255d114e3",
        "outputId": "1d68c1e4-161b-4921-b59a-e52c6d867643"
      },
      "outputs": [
        {
          "output_type": "execute_result",
          "data": {
            "text/plain": [
              "'also a string'"
            ],
            "application/vnd.google.colaboratory.intrinsic+json": {
              "type": "string"
            }
          },
          "metadata": {},
          "execution_count": 43
        }
      ],
      "source": [
        "'also a string'"
      ]
    },
    {
      "cell_type": "code",
      "execution_count": 44,
      "id": "8d1f5486-4b0b-4b28-95e0-146d47bcc7b7",
      "metadata": {
        "colab": {
          "base_uri": "https://localhost:8080/",
          "height": 106
        },
        "id": "8d1f5486-4b0b-4b28-95e0-146d47bcc7b7",
        "outputId": "b0127fe4-ae2a-4618-8c3b-8dc8ddc5d93e"
      },
      "outputs": [
        {
          "output_type": "error",
          "ename": "SyntaxError",
          "evalue": "unterminated string literal (detected at line 3) (<ipython-input-44-5213d5ca4357>, line 3)",
          "traceback": [
            "\u001b[0;36m  File \u001b[0;32m\"<ipython-input-44-5213d5ca4357>\"\u001b[0;36m, line \u001b[0;32m3\u001b[0m\n\u001b[0;31m    'a broken string y'all'\u001b[0m\n\u001b[0m                          ^\u001b[0m\n\u001b[0;31mSyntaxError\u001b[0m\u001b[0;31m:\u001b[0m unterminated string literal (detected at line 3)\n"
          ]
        }
      ],
      "source": [
        "# a broken string where single quotes are used to mark the string and also within the string itself\n",
        "\n",
        "'a broken string y'all'"
      ]
    },
    {
      "cell_type": "markdown",
      "id": "4014aa5d-6aaf-436e-8e73-76f42bb080d2",
      "metadata": {
        "id": "4014aa5d-6aaf-436e-8e73-76f42bb080d2"
      },
      "source": [
        "Strings can typically only be used on a single line, so that I cannot do the following:"
      ]
    },
    {
      "cell_type": "code",
      "execution_count": 45,
      "id": "9a5b0594-7c58-4b84-833b-2e9e63d31b2e",
      "metadata": {
        "colab": {
          "base_uri": "https://localhost:8080/",
          "height": 106
        },
        "id": "9a5b0594-7c58-4b84-833b-2e9e63d31b2e",
        "outputId": "33c66c11-1359-4716-a908-59301267ee1f"
      },
      "outputs": [
        {
          "output_type": "error",
          "ename": "SyntaxError",
          "evalue": "unterminated string literal (detected at line 1) (<ipython-input-45-77ff0ba3a188>, line 1)",
          "traceback": [
            "\u001b[0;36m  File \u001b[0;32m\"<ipython-input-45-77ff0ba3a188>\"\u001b[0;36m, line \u001b[0;32m1\u001b[0m\n\u001b[0;31m    \"my string starts here\u001b[0m\n\u001b[0m    ^\u001b[0m\n\u001b[0;31mSyntaxError\u001b[0m\u001b[0;31m:\u001b[0m unterminated string literal (detected at line 1)\n"
          ]
        }
      ],
      "source": [
        "\"my string starts here\n",
        "\n",
        "and ends here\""
      ]
    },
    {
      "cell_type": "markdown",
      "id": "8203e125-356c-4329-a99d-112d26ea61af",
      "metadata": {
        "id": "8203e125-356c-4329-a99d-112d26ea61af"
      },
      "source": [
        "Special quotation marks can be used to create multiline strings. We use a triple quote system for this, where we mark the start or end of the string with three quotes (can be single or double):"
      ]
    },
    {
      "cell_type": "code",
      "execution_count": 58,
      "id": "23abbbaa-4d01-4b67-89ad-724561e84a54",
      "metadata": {
        "colab": {
          "base_uri": "https://localhost:8080/",
          "height": 35
        },
        "id": "23abbbaa-4d01-4b67-89ad-724561e84a54",
        "outputId": "05b7f58e-0478-4101-9ee3-adab4e84180b"
      },
      "outputs": [
        {
          "output_type": "execute_result",
          "data": {
            "text/plain": [
              "'my string starts here\\n\\nand ends here'"
            ],
            "application/vnd.google.colaboratory.intrinsic+json": {
              "type": "string"
            }
          },
          "metadata": {},
          "execution_count": 58
        }
      ],
      "source": [
        "\"\"\"my string starts here\n",
        "\n",
        "and ends here\"\"\""
      ]
    },
    {
      "cell_type": "markdown",
      "id": "09453a14-957f-4002-ab61-9b9ee4948122",
      "metadata": {
        "id": "09453a14-957f-4002-ab61-9b9ee4948122"
      },
      "source": [
        "Our string now contains some **escape characters** (\\\\n) that mark where one line ends and the next begins, allowing us to handle text that spans multiple lines. We can even use this to store information like SQL queries that have been formatted for readability!"
      ]
    },
    {
      "cell_type": "code",
      "execution_count": 47,
      "id": "718cd78d-f054-4f30-ad09-534cae359aac",
      "metadata": {
        "colab": {
          "base_uri": "https://localhost:8080/",
          "height": 35
        },
        "id": "718cd78d-f054-4f30-ad09-534cae359aac",
        "outputId": "e5570c61-7bb8-43ae-e465-79fff0ca5b2e"
      },
      "outputs": [
        {
          "output_type": "execute_result",
          "data": {
            "text/plain": [
              "'\\nSELECT\\n    *\\nFROM\\n    database\\nWHERE\\n    column > 0\\n'"
            ],
            "application/vnd.google.colaboratory.intrinsic+json": {
              "type": "string"
            }
          },
          "metadata": {},
          "execution_count": 47
        }
      ],
      "source": [
        "'''\n",
        "SELECT\n",
        "    *\n",
        "FROM\n",
        "    database\n",
        "WHERE\n",
        "    column > 0\n",
        "'''"
      ]
    },
    {
      "cell_type": "markdown",
      "id": "d5333144-1794-4366-9091-9765d9b03f33",
      "metadata": {
        "id": "d5333144-1794-4366-9091-9765d9b03f33"
      },
      "source": [
        "### Operating on Strings\n",
        "\n",
        "Strings can also be modified using operators and **methods**. We are already familiar with operators, and the applicable operators for strings are \\+ and \\*. Methods are **functions**, or pre-existing code that is associated with a specific type of object. First, the operators:"
      ]
    },
    {
      "cell_type": "code",
      "execution_count": 48,
      "id": "d26130d8-1dfc-41d2-87b7-a8adb56a148d",
      "metadata": {
        "colab": {
          "base_uri": "https://localhost:8080/",
          "height": 35
        },
        "id": "d26130d8-1dfc-41d2-87b7-a8adb56a148d",
        "outputId": "f6edd9a7-bc91-4e56-d60b-ec749c5047ef"
      },
      "outputs": [
        {
          "output_type": "execute_result",
          "data": {
            "text/plain": [
              "'Add this string to another'"
            ],
            "application/vnd.google.colaboratory.intrinsic+json": {
              "type": "string"
            }
          },
          "metadata": {},
          "execution_count": 48
        }
      ],
      "source": [
        "\"Add this string\" + \" \" + \"to another\""
      ]
    },
    {
      "cell_type": "code",
      "execution_count": 49,
      "id": "6663c80a-18f3-4edf-9814-13315dbb4508",
      "metadata": {
        "colab": {
          "base_uri": "https://localhost:8080/",
          "height": 35
        },
        "id": "6663c80a-18f3-4edf-9814-13315dbb4508",
        "outputId": "aca66efa-90d7-4d67-8064-cbb27307fb08"
      },
      "outputs": [
        {
          "output_type": "execute_result",
          "data": {
            "text/plain": [
              "'Repeat me!Repeat me!Repeat me!'"
            ],
            "application/vnd.google.colaboratory.intrinsic+json": {
              "type": "string"
            }
          },
          "metadata": {},
          "execution_count": 49
        }
      ],
      "source": [
        "\"Repeat me!\" * 3"
      ]
    },
    {
      "cell_type": "markdown",
      "id": "3942654a-f8a2-4601-aa7d-c1a44e00f18b",
      "metadata": {
        "id": "3942654a-f8a2-4601-aa7d-c1a44e00f18b"
      },
      "source": [
        "Methods are called by name, rather than through an operator. Below are some useful methods for strings. Please note that there are MANY others (see [https://docs.python.org/3/library/stdtypes.html#string-methods](https://docs.python.org/3/library/stdtypes.html#string-methods) for more information)"
      ]
    },
    {
      "cell_type": "code",
      "execution_count": 50,
      "id": "970c8c8b-7224-4322-86f6-1dd663578c02",
      "metadata": {
        "colab": {
          "base_uri": "https://localhost:8080/",
          "height": 35
        },
        "id": "970c8c8b-7224-4322-86f6-1dd663578c02",
        "outputId": "bf5999b8-d8fb-4014-c9e5-456ec8992ac5"
      },
      "outputs": [
        {
          "output_type": "execute_result",
          "data": {
            "text/plain": [
              "'Bononos'"
            ],
            "application/vnd.google.colaboratory.intrinsic+json": {
              "type": "string"
            }
          },
          "metadata": {},
          "execution_count": 50
        }
      ],
      "source": [
        "# Replacing characters within a string\n",
        "\n",
        "\"Bananas\".replace(\"a\", \"o\")"
      ]
    },
    {
      "cell_type": "code",
      "execution_count": 51,
      "id": "41ff9865-c362-43bf-b312-60732e5e9f4f",
      "metadata": {
        "colab": {
          "base_uri": "https://localhost:8080/",
          "height": 35
        },
        "id": "41ff9865-c362-43bf-b312-60732e5e9f4f",
        "outputId": "7126b377-f753-4131-d256-61ede5109100"
      },
      "outputs": [
        {
          "output_type": "execute_result",
          "data": {
            "text/plain": [
              "'angry words'"
            ],
            "application/vnd.google.colaboratory.intrinsic+json": {
              "type": "string"
            }
          },
          "metadata": {},
          "execution_count": 51
        }
      ],
      "source": [
        "# Converting a string to lower case\n",
        "\n",
        "\"ANGRY WORDS\".lower()"
      ]
    },
    {
      "cell_type": "code",
      "execution_count": 52,
      "id": "30fda113-5c0c-4c91-9ec1-770f4273f794",
      "metadata": {
        "colab": {
          "base_uri": "https://localhost:8080/"
        },
        "id": "30fda113-5c0c-4c91-9ec1-770f4273f794",
        "outputId": "77d70a58-6fb4-4e23-ce24-a574c2f1be06"
      },
      "outputs": [
        {
          "output_type": "execute_result",
          "data": {
            "text/plain": [
              "['Make', 'me', 'into', 'many', 'strings']"
            ]
          },
          "metadata": {},
          "execution_count": 52
        }
      ],
      "source": [
        "# Break a string apart based on a designated character\n",
        "\n",
        "\"Make me into many strings\".split(\" \")"
      ]
    },
    {
      "cell_type": "code",
      "execution_count": 53,
      "id": "4c6f2531-1587-4ace-96db-171bfb230848",
      "metadata": {
        "colab": {
          "base_uri": "https://localhost:8080/",
          "height": 35
        },
        "id": "4c6f2531-1587-4ace-96db-171bfb230848",
        "outputId": "30a9e99c-af90-4814-d08b-dc3e3afd5fc3"
      },
      "outputs": [
        {
          "output_type": "execute_result",
          "data": {
            "text/plain": [
              "'too much whitespace!'"
            ],
            "application/vnd.google.colaboratory.intrinsic+json": {
              "type": "string"
            }
          },
          "metadata": {},
          "execution_count": 53
        }
      ],
      "source": [
        "\"    too much whitespace!   \".strip()"
      ]
    },
    {
      "cell_type": "markdown",
      "id": "e73c8f77-bc87-4ca5-8a5c-3d41d50bf1a7",
      "metadata": {
        "id": "e73c8f77-bc87-4ca5-8a5c-3d41d50bf1a7"
      },
      "source": [
        "### Solve-it!\n",
        "\n",
        "Complete the following sentence by using the `replace` method to replace each \"\\_\\_x\\_\\_\" string with a fitting word. Feel free to be silly!\n",
        "\n",
        "If you want to have some fun, choose words before reading the sentence. You will need (in order):\n",
        "- Adjective\n",
        "- Adjective\n",
        "- Noun\n",
        "- Noun\n",
        "- Name of an Animal\n",
        "- Name of a Game\n",
        "\n",
        "Store the resulting sentence as a variable named `myMadLib` in the cell labeled with `#si-madLib` below. Do not delete the comment."
      ]
    },
    {
      "cell_type": "code",
      "execution_count": null,
      "id": "6c541467-b241-40c6-8411-92573dbfc13a",
      "metadata": {
        "id": "6c541467-b241-40c6-8411-92573dbfc13a"
      },
      "outputs": [],
      "source": [
        "#si-madLib\n",
        "\n",
        "myMadLib = \"\"\"\n",
        "A vacation is when you take a trip to some __1__ place\n",
        "with your __2__ family. Usually you go to some place that\n",
        "is near a(n) __3__ or up on a(n) __4__. A good vacation\n",
        "place is one where you can ride __5__ or play __6__.\n",
        "\"\"\""
      ]
    },
    {
      "cell_type": "code",
      "source": [
        "myMadLib = \"\"\"\n",
        "A vacation is when you take a trip to some __1__ place\n",
        "with your __2__ family. Usually you go to some place that\n",
        "is near a(n) __3__ or up on a(n) __4__. A good vacation\n",
        "place is one where you can ride __5__ or play __6__.\n",
        "\"\"\".replace(\"__1__\", \"milky\").replace(\"__2__\", \"smelly\").replace(\"(n) __3__\", \" golfcart\").replace(\"(n) __4__\", \" smartcar\").replace(\"__5__\", \"hippopotomus\").replace(\"__6__\", \"Life\")\n",
        "print(myMadLib)"
      ],
      "metadata": {
        "colab": {
          "base_uri": "https://localhost:8080/"
        },
        "id": "TtKgsjSGGO7E",
        "outputId": "db35a4ee-914a-4b07-b95c-f1d60d91311b"
      },
      "id": "TtKgsjSGGO7E",
      "execution_count": 67,
      "outputs": [
        {
          "output_type": "stream",
          "name": "stdout",
          "text": [
            "\n",
            "A vacation is when you take a trip to some milky place \n",
            "with your smelly family. Usually you go to some place that \n",
            "is near a golfcart or up on a smartcar. A good vacation \n",
            "place is one where you can ride hippopotomus or play Life.\n",
            "\n"
          ]
        }
      ]
    },
    {
      "cell_type": "markdown",
      "id": "cdb67faf-2187-4091-a763-47afc80a46f2",
      "metadata": {
        "id": "cdb67faf-2187-4091-a763-47afc80a46f2"
      },
      "source": [
        "## Lists\n",
        "\n",
        "Lists are the first of several data types that allow us to organize and store many different values within them. A list, as its name suggests, is an object in which a _list_ of values are stored. Each value can then be accessed by its position within the list.\n",
        "\n",
        "**REALLY IMPORTANT**: Positions in Python (and almost all programming languages) begin counting at 0, so that the first thing in a list is the 0th thing in the list. To remember this, remember that the first element in a list is ZERO elements removed from the start. We are counting how far from the start of the list we are, and the distance between the first element in a list and itself is 0!\n",
        "\n",
        "So how do we make a list? with \\[ \\] characters marking the start and end of the list, respectively, and with commas (,) in between the elements."
      ]
    },
    {
      "cell_type": "code",
      "execution_count": 74,
      "id": "53e2caad-777b-4164-9311-87482d417bfb",
      "metadata": {
        "colab": {
          "base_uri": "https://localhost:8080/"
        },
        "id": "53e2caad-777b-4164-9311-87482d417bfb",
        "outputId": "68b31ba8-aba2-4360-f122-908f78123c1f"
      },
      "outputs": [
        {
          "output_type": "execute_result",
          "data": {
            "text/plain": [
              "[0, 1, 2, 3, 4]"
            ]
          },
          "metadata": {},
          "execution_count": 74
        }
      ],
      "source": [
        "# Handwrite a list\n",
        "\n",
        "[ 0, 1, 2, 3, 4 ]"
      ]
    },
    {
      "cell_type": "code",
      "execution_count": 75,
      "id": "a5b77d34-0f53-439f-9c27-82bf5b22672a",
      "metadata": {
        "colab": {
          "base_uri": "https://localhost:8080/"
        },
        "id": "a5b77d34-0f53-439f-9c27-82bf5b22672a",
        "outputId": "ff93f8ad-5841-4f08-df0b-a58eeebf6f72"
      },
      "outputs": [
        {
          "output_type": "execute_result",
          "data": {
            "text/plain": [
              "[0, 1, 2, 3, 4, 5, 6, 7, 8, 9]"
            ]
          },
          "metadata": {},
          "execution_count": 75
        }
      ],
      "source": [
        "# Use list comprehensions to make a list\n",
        "\n",
        "[x for x in range(10)]"
      ]
    },
    {
      "cell_type": "code",
      "execution_count": 76,
      "id": "ac8c304a-f434-4bbe-8914-d3e63c9aa466",
      "metadata": {
        "colab": {
          "base_uri": "https://localhost:8080/"
        },
        "id": "ac8c304a-f434-4bbe-8914-d3e63c9aa466",
        "outputId": "b4fd1bcb-13a9-42eb-d18a-79ccc6f51252"
      },
      "outputs": [
        {
          "output_type": "execute_result",
          "data": {
            "text/plain": [
              "['Make', 'me', 'into', 'many', 'strings']"
            ]
          },
          "metadata": {},
          "execution_count": 76
        }
      ],
      "source": [
        "# Make a list from a string\n",
        "\n",
        "\"Make me into many strings\".split(\" \")"
      ]
    },
    {
      "cell_type": "markdown",
      "id": "31d4a5c1-ac3f-4029-b990-9178bcb8bb69",
      "metadata": {
        "id": "31d4a5c1-ac3f-4029-b990-9178bcb8bb69"
      },
      "source": [
        "### What's in a list?\n",
        "\n",
        "Anything! Lists can consist of numbers, strings, boolean values, or other lists, and more! They can contain these elements in any order or combination."
      ]
    },
    {
      "cell_type": "code",
      "execution_count": 73,
      "id": "17acdb5c-99e3-4dca-81f4-0ccadec4534d",
      "metadata": {
        "colab": {
          "base_uri": "https://localhost:8080/"
        },
        "id": "17acdb5c-99e3-4dca-81f4-0ccadec4534d",
        "outputId": "c979ec90-f065-4d6e-aaa6-74c45496aff3"
      },
      "outputs": [
        {
          "output_type": "execute_result",
          "data": {
            "text/plain": [
              "['a number',\n",
              " 3,\n",
              " ['another list', 'with three strings', 'inside the first one!']]"
            ]
          },
          "metadata": {},
          "execution_count": 73
        }
      ],
      "source": [
        "[\"a number\", 3, [\"another list\", \"with three strings\", \"inside the first one!\"]]"
      ]
    },
    {
      "cell_type": "markdown",
      "id": "b3b32757-5a91-4d85-83dc-af6a75ac642a",
      "metadata": {
        "id": "b3b32757-5a91-4d85-83dc-af6a75ac642a"
      },
      "source": [
        "### Finding elements of a list\n",
        "\n",
        "Within a list, we can use **slicing** to find specific elements or to reference a specific position within a list. First, let's make a list to play with by **storing** a list. We can **store** a list (or any other object) in memory by assigning it a name using the \\= symbol. After we have given an object a name, we can refer to that object by its name whenever we want to make use of the object. There are some simple rules for naming things in Python:\n",
        "\n",
        "- Variable names must consist of letters, numbers, and underscores only.\n",
        "- Periods CANNOT be part of variable names (helpful advice for any recovering R users out there...)\n",
        "- Variable names typically begin with lower case letters, and CANNOT begin with numbers.\n",
        "- If you want to use multiple words in a variable name, separate the words with underscores (\\_) or by capitalizing all but the first word (called **camel casing**)\n",
        "- While you can use any word you want for a variable's name, you should avoid [reserve words](https://stackoverflow.com/questions/22864221/is-the-list-of-python-reserved-words-and-builtins-available-in-a-library) wherever possible."
      ]
    },
    {
      "cell_type": "code",
      "execution_count": 77,
      "id": "8dc87eee-090b-4b56-8b7d-7f2e77185fcc",
      "metadata": {
        "id": "8dc87eee-090b-4b56-8b7d-7f2e77185fcc"
      },
      "outputs": [],
      "source": [
        "firstList = [x for x in range(10)]"
      ]
    },
    {
      "cell_type": "markdown",
      "id": "c016d0d1-affe-4655-98ad-e90ef32b9825",
      "metadata": {
        "id": "c016d0d1-affe-4655-98ad-e90ef32b9825"
      },
      "source": [
        "Now that we have created and stored a list, let's **slice** it up! When **slicing**, we will use the variable name followed by square brackets (\\[ and \\]) with values in between them to denote what we want to extract from the list. To get the first element in our stored list, we can use the following code:"
      ]
    },
    {
      "cell_type": "code",
      "execution_count": 78,
      "id": "74d317ea-6533-459f-b192-4a31ffb91b57",
      "metadata": {
        "colab": {
          "base_uri": "https://localhost:8080/"
        },
        "id": "74d317ea-6533-459f-b192-4a31ffb91b57",
        "outputId": "80fc0650-9cab-49de-e443-f6f304209c0f"
      },
      "outputs": [
        {
          "output_type": "execute_result",
          "data": {
            "text/plain": [
              "0"
            ]
          },
          "metadata": {},
          "execution_count": 78
        }
      ],
      "source": [
        "firstList[0]"
      ]
    },
    {
      "cell_type": "markdown",
      "id": "d1a090fc-138d-423d-8b03-24b930e1851a",
      "metadata": {
        "id": "d1a090fc-138d-423d-8b03-24b930e1851a"
      },
      "source": [
        "Remember, lists are **zero-indexed** (the first thing is the 0th thing)! We can also grab more than one element at a time. Our list currently has 10 elements (you can see the whole list by removing the slicing notation from the line above and running the line again), but we might want to extract the first 5."
      ]
    },
    {
      "cell_type": "code",
      "execution_count": 79,
      "id": "06bb9d01-0215-4df3-97f0-de586a7e7d83",
      "metadata": {
        "colab": {
          "base_uri": "https://localhost:8080/"
        },
        "id": "06bb9d01-0215-4df3-97f0-de586a7e7d83",
        "outputId": "cfec2d3c-f79a-4e1d-8c3a-0fddb6cbdb60"
      },
      "outputs": [
        {
          "output_type": "execute_result",
          "data": {
            "text/plain": [
              "[0, 1, 2, 3, 4]"
            ]
          },
          "metadata": {},
          "execution_count": 79
        }
      ],
      "source": [
        "firstList[0:5]"
      ]
    },
    {
      "cell_type": "markdown",
      "id": "ff8b366a-f48e-4f61-9a36-5aeee6705310",
      "metadata": {
        "id": "ff8b366a-f48e-4f61-9a36-5aeee6705310"
      },
      "source": [
        "When we use notation like `[0:5]`, we are explaining to python that we want all elements beginning with the 0th element, but whose position is less than 5. This will retrieve elements 0, 1, 2, 3, and 4, as you can see from our output. We can also write with fewer characters, and use equivalent notation like `[:5]`.\n",
        "\n",
        "**Question**: If `[:5]` gets everything from the start of the list until the 5th element, what do you think that `[5:]` would provide?\n"
      ]
    },
    {
      "cell_type": "code",
      "execution_count": 80,
      "id": "64402f77-7a34-4f43-8209-1c34222b3fbb",
      "metadata": {
        "colab": {
          "base_uri": "https://localhost:8080/"
        },
        "id": "64402f77-7a34-4f43-8209-1c34222b3fbb",
        "outputId": "d39a1f18-0de2-4262-b0b5-ebbf9eb29454"
      },
      "outputs": [
        {
          "output_type": "execute_result",
          "data": {
            "text/plain": [
              "[5, 6, 7, 8, 9]"
            ]
          },
          "metadata": {},
          "execution_count": 80
        }
      ],
      "source": [
        "firstList[5:]"
      ]
    },
    {
      "cell_type": "markdown",
      "id": "9111c5cd-11cd-40ce-90a3-d3439540bbe7",
      "metadata": {
        "id": "9111c5cd-11cd-40ce-90a3-d3439540bbe7"
      },
      "source": [
        "That's right! `[5:]` will extract the elements from the 6th position (6-1=5) to the end of the list. This comes in REALLY handy when we may not know ahead of time how many elements are in a list, but we still need to tell Python what to do. We can even do some fancy footwork, and have our slicing syntax help us grab every other element from the list, rather than all the elements!"
      ]
    },
    {
      "cell_type": "code",
      "execution_count": 81,
      "id": "40fccba6-c294-45c1-9201-cbedcfaf8dbf",
      "metadata": {
        "colab": {
          "base_uri": "https://localhost:8080/"
        },
        "id": "40fccba6-c294-45c1-9201-cbedcfaf8dbf",
        "outputId": "e9b605d0-a106-4a94-c9f6-aac504f61d0a"
      },
      "outputs": [
        {
          "output_type": "execute_result",
          "data": {
            "text/plain": [
              "[0, 2, 4, 6, 8]"
            ]
          },
          "metadata": {},
          "execution_count": 81
        }
      ],
      "source": [
        "firstList[::2] # or firstList[0::2] or firstList[0:10:2] -- All three commands are equivalent for our list"
      ]
    },
    {
      "cell_type": "markdown",
      "id": "1fa29123-0f47-452f-ba7c-b0b1c3e02481",
      "metadata": {
        "id": "1fa29123-0f47-452f-ba7c-b0b1c3e02481"
      },
      "source": [
        "Pretty awesome, right?\n",
        "\n",
        "### List operators and methods\n",
        "\n",
        "Lists can use the operators \\+ and \\*, similar to strings. The \\+ operator can be used to **concatenate** two lists together, and the \\* operator can be used to repeat a list, just like with strings:"
      ]
    },
    {
      "cell_type": "code",
      "execution_count": 82,
      "id": "0c524146-80aa-4f7e-9db3-389ab6797e20",
      "metadata": {
        "colab": {
          "base_uri": "https://localhost:8080/"
        },
        "id": "0c524146-80aa-4f7e-9db3-389ab6797e20",
        "outputId": "b3024bae-aca0-4cf2-93a2-08cb1fbd845d"
      },
      "outputs": [
        {
          "output_type": "execute_result",
          "data": {
            "text/plain": [
              "[0, 1, 2, 3, 4, 5, 6, 7, 8, 9, 'textGoesHere', 'moreTextHere']"
            ]
          },
          "metadata": {},
          "execution_count": 82
        }
      ],
      "source": [
        "firstList + ['textGoesHere', 'moreTextHere']"
      ]
    },
    {
      "cell_type": "code",
      "execution_count": 83,
      "id": "d5f2f710-32a2-45fd-a98e-1bcf24393700",
      "metadata": {
        "colab": {
          "base_uri": "https://localhost:8080/"
        },
        "id": "d5f2f710-32a2-45fd-a98e-1bcf24393700",
        "outputId": "6ab809da-36d5-4b8c-f49b-ca46d4f5acdc"
      },
      "outputs": [
        {
          "output_type": "execute_result",
          "data": {
            "text/plain": [
              "[0, 1, 2, 3, 4, 5, 6, 7, 8, 9, 0, 1, 2, 3, 4, 5, 6, 7, 8, 9]"
            ]
          },
          "metadata": {},
          "execution_count": 83
        }
      ],
      "source": [
        "firstList*2"
      ]
    },
    {
      "cell_type": "markdown",
      "id": "313f124e-85ae-40ae-b568-1814efbd6d65",
      "metadata": {
        "id": "313f124e-85ae-40ae-b568-1814efbd6d65"
      },
      "source": [
        "Lists have many useful methods to supplement their functionality. We can use methods to sort lists, add elements, remove elements, find unique values, and much more. For a list of the built-in methods, see [https://docs.python.org/3/tutorial/datastructures.html#more-on-lists](https://docs.python.org/3/tutorial/datastructures.html#more-on-lists)."
      ]
    },
    {
      "cell_type": "code",
      "execution_count": 84,
      "id": "4eb82bb0-9163-48e5-8fc5-019f49df0a69",
      "metadata": {
        "id": "4eb82bb0-9163-48e5-8fc5-019f49df0a69"
      },
      "outputs": [],
      "source": [
        "# Add an element to the end of a list - WARNING!! THIS WILL CHANGE YOUR STORED LIST!\n",
        "\n",
        "firstList.append(11)"
      ]
    },
    {
      "cell_type": "code",
      "execution_count": 85,
      "id": "0b93d48a-d61e-4713-9b97-3d7543d4e62a",
      "metadata": {
        "colab": {
          "base_uri": "https://localhost:8080/"
        },
        "id": "0b93d48a-d61e-4713-9b97-3d7543d4e62a",
        "outputId": "5ccd060b-d41c-430c-dab1-a72a26fc995e"
      },
      "outputs": [
        {
          "output_type": "execute_result",
          "data": {
            "text/plain": [
              "11"
            ]
          },
          "metadata": {},
          "execution_count": 85
        }
      ],
      "source": [
        "# Remove an element from the end of a list - WARNING!! THIS WILL CHANGE YOUR STORED LIST!\n",
        "\n",
        "firstList.pop()"
      ]
    },
    {
      "cell_type": "code",
      "execution_count": 86,
      "id": "d8a7fb17-2322-4f15-93e3-1f300bf40547",
      "metadata": {
        "id": "d8a7fb17-2322-4f15-93e3-1f300bf40547"
      },
      "outputs": [],
      "source": [
        "# Sort a list - WARNING!! THIS WILL CHANGE YOUR STORED LIST!\n",
        "\n",
        "firstList.sort()"
      ]
    },
    {
      "cell_type": "code",
      "execution_count": 87,
      "id": "2031f9f0-6acd-491e-8590-bc9d3eed1030",
      "metadata": {
        "id": "2031f9f0-6acd-491e-8590-bc9d3eed1030"
      },
      "outputs": [],
      "source": [
        "# Sort a list - WARNING!! THIS WILL CHANGE YOUR STORED LIST!\n",
        "\n",
        "firstList.reverse()"
      ]
    },
    {
      "cell_type": "code",
      "execution_count": 88,
      "id": "87ae3d8a-bc80-4c44-81b4-a3e158f23fd2",
      "metadata": {
        "colab": {
          "base_uri": "https://localhost:8080/"
        },
        "id": "87ae3d8a-bc80-4c44-81b4-a3e158f23fd2",
        "outputId": "2614746d-8804-48d5-8c06-08d969507f19"
      },
      "outputs": [
        {
          "output_type": "execute_result",
          "data": {
            "text/plain": [
              "10"
            ]
          },
          "metadata": {},
          "execution_count": 88
        }
      ],
      "source": [
        "# Find the length of a list (or of strings, or other data types of arbitrary length)\n",
        "\n",
        "len(firstList)"
      ]
    },
    {
      "cell_type": "markdown",
      "id": "a8414c23-7521-49c1-8bc1-21aa262adbdf",
      "metadata": {
        "id": "a8414c23-7521-49c1-8bc1-21aa262adbdf"
      },
      "source": [
        "### Solve-it!\n",
        "\n",
        "In the cell labeled with the comment `#si-oddsOrEvens` (in this Github repo), write a list containing all numbers up to 50 IN ORDER, where each odd number is negative, and each even number is positive. *Hint: the [modulo operator](https://www.educative.io/edpresso/what-is-a-modulo-operator-in-python) will be really helpful!*\n",
        "\n",
        "Store the resulting list as a variable named `oddsOrEvens`. Do not delete the comment."
      ]
    },
    {
      "cell_type": "code",
      "execution_count": 89,
      "id": "d12e9b05",
      "metadata": {
        "id": "d12e9b05"
      },
      "outputs": [],
      "source": [
        "#si-oddsOrEvens\n"
      ]
    },
    {
      "cell_type": "code",
      "source": [
        "oddsOrEvens = [-x if x % 2 != 0 else x for x in range(51)]\n",
        "bool(oddsOrEvens)\n",
        "print(oddsOrEvens)"
      ],
      "metadata": {
        "colab": {
          "base_uri": "https://localhost:8080/"
        },
        "id": "5vSOE8r3T4Gu",
        "outputId": "7c62aa55-0707-42b9-8a05-54484f618c2c"
      },
      "id": "5vSOE8r3T4Gu",
      "execution_count": 81,
      "outputs": [
        {
          "output_type": "stream",
          "name": "stdout",
          "text": [
            "[0, -1, 2, -3, 4, -5, 6, -7, 8, -9, 10, -11, 12, -13, 14, -15, 16, -17, 18, -19, 20, -21, 22, -23, 24, -25, 26, -27, 28, -29, 30, -31, 32, -33, 34, -35, 36, -37, 38, -39, 40, -41, 42, -43, 44, -45, 46, -47, 48, -49]\n"
          ]
        }
      ]
    },
    {
      "cell_type": "markdown",
      "source": [],
      "metadata": {
        "id": "n3BLjrQUUJaM"
      },
      "id": "n3BLjrQUUJaM"
    },
    {
      "cell_type": "markdown",
      "source": [],
      "metadata": {
        "id": "u2QApFT0UJCo"
      },
      "id": "u2QApFT0UJCo"
    },
    {
      "cell_type": "markdown",
      "id": "737d679b-50e9-4e5b-abda-b9ad2061c72b",
      "metadata": {
        "id": "737d679b-50e9-4e5b-abda-b9ad2061c72b"
      },
      "source": [
        "## Dictionaries\n",
        "\n",
        "\n",
        "\n",
        "Dictionaries are powerful objects that do many of the same things as lists, but also include their own nice set of features, making them easier to deal with than lists in many contexts. Like lists, dictionaries can store any number of elements of more or less any type. You can store numbers, strings, lists, and dictionaries within a dictionary (among many other things).\n",
        "\n",
        "Remember that a list is created to be used in order (using the position of their elements as the way to reference the information stored within the list). Dictionaries have a different structure. Every element of a dictionary is stored in what is called a **key-value pair**.\n",
        "\n",
        "**Key-value pair** refers to the fact that every element in a dictionary is assigned a name (a **key**) which is then associated with the **value** to be stored within the dictionary. When we want to find a specific element within a dictionary, we access it by providing the **key** that pairs with the value that we are interested in.\n",
        "\n",
        "Let's create a dictionary called `studentRecord`, and put some information about an imaginary student inside of it. We will store the student's name, age, and GPA."
      ]
    },
    {
      "cell_type": "code",
      "execution_count": null,
      "id": "554123cd-ab35-4290-95dc-53a3fca5fd08",
      "metadata": {
        "id": "554123cd-ab35-4290-95dc-53a3fca5fd08"
      },
      "outputs": [],
      "source": [
        "studentRecord = {\n",
        "    'name' : 'Dusty White',\n",
        "    'age' : 32,\n",
        "    'GPA' : 3.45\n",
        "}"
      ]
    },
    {
      "cell_type": "code",
      "source": [
        "studentRecord = {\n",
        "    'name' : 'Dusty White',\n",
        "    'age' : 32,\n",
        "    'GPA' : 3.45\n",
        "}"
      ],
      "metadata": {
        "id": "BLi0MDFuzebS"
      },
      "id": "BLi0MDFuzebS",
      "execution_count": 22,
      "outputs": []
    },
    {
      "cell_type": "markdown",
      "id": "58061f2b-53e0-4591-84fc-cebb9ea35f8f",
      "metadata": {
        "id": "58061f2b-53e0-4591-84fc-cebb9ea35f8f"
      },
      "source": [
        "When we want to reference a single value from our dictionary, we can do so by providing the key that corresponds to the value we would like to extract within square brackets (\\[ \\])."
      ]
    },
    {
      "cell_type": "code",
      "execution_count": null,
      "id": "9ecb01cf-e6e4-4609-86bc-c4b3af0dacc9",
      "metadata": {
        "id": "9ecb01cf-e6e4-4609-86bc-c4b3af0dacc9"
      },
      "outputs": [],
      "source": [
        "studentRecord['age']"
      ]
    },
    {
      "cell_type": "code",
      "source": [
        "studentRecord['age']"
      ],
      "metadata": {
        "colab": {
          "base_uri": "https://localhost:8080/"
        },
        "id": "fQmrAUPj0Fui",
        "outputId": "23a83806-dc1c-4c94-efa3-4f00b6ada666"
      },
      "id": "fQmrAUPj0Fui",
      "execution_count": 24,
      "outputs": [
        {
          "output_type": "execute_result",
          "data": {
            "text/plain": [
              "32"
            ]
          },
          "metadata": {},
          "execution_count": 24
        }
      ]
    },
    {
      "cell_type": "markdown",
      "id": "b591b662-a922-48d9-9015-f8f42814b7f1",
      "metadata": {
        "id": "b591b662-a922-48d9-9015-f8f42814b7f1"
      },
      "source": [
        "Let's update this record to contain a list of courses taken by the student:"
      ]
    },
    {
      "cell_type": "code",
      "execution_count": null,
      "id": "8983f628-7a72-459e-bfe1-e847191e7bba",
      "metadata": {
        "id": "8983f628-7a72-459e-bfe1-e847191e7bba"
      },
      "outputs": [],
      "source": [
        "studentRecord['courseHistory'] = [\"Econ\", \"Math\", \"Chem\"]"
      ]
    },
    {
      "cell_type": "code",
      "source": [
        "studentRecord['courseHistory'] = [\"Econ\", \"Math\", \"Chem\"]"
      ],
      "metadata": {
        "id": "JKXpGaqm0L7X"
      },
      "id": "JKXpGaqm0L7X",
      "execution_count": 31,
      "outputs": []
    },
    {
      "cell_type": "markdown",
      "id": "56134b00-0ee7-444f-bfe0-a2c9936cda67",
      "metadata": {
        "id": "56134b00-0ee7-444f-bfe0-a2c9936cda67"
      },
      "source": [
        "Now, when we look at the entire dictionary, we will see the following:"
      ]
    },
    {
      "cell_type": "code",
      "execution_count": 32,
      "id": "a7f7cd4c-5455-4379-92c4-88a6bc02575b",
      "metadata": {
        "colab": {
          "base_uri": "https://localhost:8080/"
        },
        "id": "a7f7cd4c-5455-4379-92c4-88a6bc02575b",
        "outputId": "d5d34b3c-08ed-4e7d-82a4-3949a2b2adaf"
      },
      "outputs": [
        {
          "output_type": "execute_result",
          "data": {
            "text/plain": [
              "{'name': 'Dusty White',\n",
              " 'age': 32,\n",
              " 'GPA': 3.45,\n",
              " 'courseHistory': ['Econ', 'Math', 'Chem']}"
            ]
          },
          "metadata": {},
          "execution_count": 32
        }
      ],
      "source": [
        "studentRecord"
      ]
    },
    {
      "cell_type": "markdown",
      "id": "ea057c08-e60c-4009-8c82-623c54d956c6",
      "metadata": {
        "id": "ea057c08-e60c-4009-8c82-623c54d956c6"
      },
      "source": [
        "If we want to reference the second course taken by the student, we can use multiple levels of indexing. First, we reference the key associated with the course list, and then we reference the position of the second course within the list:"
      ]
    },
    {
      "cell_type": "code",
      "execution_count": null,
      "id": "7ba8ee06-a241-400b-87b3-05d8cd876360",
      "metadata": {
        "id": "7ba8ee06-a241-400b-87b3-05d8cd876360"
      },
      "outputs": [],
      "source": [
        "studentRecord['courseHistory'][1]"
      ]
    },
    {
      "cell_type": "code",
      "source": [
        "studentRecord['courseHistory'][1]"
      ],
      "metadata": {
        "colab": {
          "base_uri": "https://localhost:8080/",
          "height": 35
        },
        "id": "WZ26Anal08ZO",
        "outputId": "06656d9e-a895-4efc-fdde-b9a911ad339b"
      },
      "id": "WZ26Anal08ZO",
      "execution_count": 35,
      "outputs": [
        {
          "output_type": "execute_result",
          "data": {
            "text/plain": [
              "'Math'"
            ],
            "application/vnd.google.colaboratory.intrinsic+json": {
              "type": "string"
            }
          },
          "metadata": {},
          "execution_count": 35
        }
      ]
    },
    {
      "cell_type": "markdown",
      "id": "4aa88629-2cf5-472f-a729-e843b368abad",
      "metadata": {
        "id": "4aa88629-2cf5-472f-a729-e843b368abad"
      },
      "source": [
        "Notice how we can treat the `\"courseHistory\"` value in our dictionary as if it were a list, because it is actually a list stored within the dictionary. Whenever an object is stored as part of another object, when we reference the internal object, we can treat it just like we would have treated it even if it were not part of something else! This makes dictionaries and lists into VERY powerful tools, that can organize and store large amounts of related information for future retrieval!\n",
        "\n",
        "### Dictionary Methods\n",
        "\n",
        "Dictionaries, due to their structure, are typically not operated on directly using operators (like we have done with other object types). The most important methods associated with dictionaries are related to retrieving the keys of the dictionary, the values of the dictionary, and extracting key-value pairs:"
      ]
    },
    {
      "cell_type": "code",
      "execution_count": 36,
      "id": "a8e650a7-1581-426f-aeb7-a98d01c0a8b6",
      "metadata": {
        "colab": {
          "base_uri": "https://localhost:8080/"
        },
        "id": "a8e650a7-1581-426f-aeb7-a98d01c0a8b6",
        "outputId": "58511721-aa1e-44f0-8f70-7aedd0f50db2"
      },
      "outputs": [
        {
          "output_type": "execute_result",
          "data": {
            "text/plain": [
              "dict_keys(['name', 'age', 'GPA', 'courseHistory'])"
            ]
          },
          "metadata": {},
          "execution_count": 36
        }
      ],
      "source": [
        "# Extract keys only\n",
        "\n",
        "studentRecord.keys()"
      ]
    },
    {
      "cell_type": "code",
      "execution_count": 37,
      "id": "4cbf58c9-9c5d-4de8-ba5e-aba9ac9eeb00",
      "metadata": {
        "colab": {
          "base_uri": "https://localhost:8080/"
        },
        "id": "4cbf58c9-9c5d-4de8-ba5e-aba9ac9eeb00",
        "outputId": "3c8cfa96-c190-4f53-b8ee-8c46af130e4c"
      },
      "outputs": [
        {
          "output_type": "execute_result",
          "data": {
            "text/plain": [
              "dict_values(['Dusty White', 32, 3.45, ['Econ', 'Math', 'Chem']])"
            ]
          },
          "metadata": {},
          "execution_count": 37
        }
      ],
      "source": [
        "# Extract values only\n",
        "\n",
        "studentRecord.values()"
      ]
    },
    {
      "cell_type": "code",
      "execution_count": 38,
      "id": "2a63cc51-a5a0-4cfb-b46d-8fffe5718953",
      "metadata": {
        "colab": {
          "base_uri": "https://localhost:8080/"
        },
        "id": "2a63cc51-a5a0-4cfb-b46d-8fffe5718953",
        "outputId": "5e08f885-11e9-4c45-bc94-88bf36af87e2"
      },
      "outputs": [
        {
          "output_type": "execute_result",
          "data": {
            "text/plain": [
              "dict_items([('name', 'Dusty White'), ('age', 32), ('GPA', 3.45), ('courseHistory', ['Econ', 'Math', 'Chem'])])"
            ]
          },
          "metadata": {},
          "execution_count": 38
        }
      ],
      "source": [
        "# Extract key-value pairs\n",
        "\n",
        "studentRecord.items()"
      ]
    },
    {
      "cell_type": "markdown",
      "id": "8e795061-9c5a-4351-b278-5e7fb777e6a3",
      "metadata": {
        "tags": [],
        "id": "8e795061-9c5a-4351-b278-5e7fb777e6a3"
      },
      "source": [
        "### Solve-it!\n",
        "\n",
        "Create a dictionary to store information about a purchase at a clothing store that contains the following keys and values:\n",
        "- A \"name\" key that corresponds to the name of the buyer\n",
        "- An \"items\" key that corresponds to a **list** of items purchased\n",
        "- A \"discount\" key that corresponds to a **boolean** value indicating whether or not the buyer received a discount on the purchase\n",
        "- A \"price\" key that corresponds to the price that the buyer paid for the purchase as a whole.\n",
        "\n",
        "Store the resulting dictionary as a variable named `receipt` in the cell labeled `#si-receipt` below. Deleting the comment will result in you not getting credit for your work."
      ]
    },
    {
      "cell_type": "code",
      "execution_count": 69,
      "id": "8d24b265-2b0b-4424-964e-071948b2ce25",
      "metadata": {
        "colab": {
          "base_uri": "https://localhost:8080/"
        },
        "id": "8d24b265-2b0b-4424-964e-071948b2ce25",
        "outputId": "7f5e6ee8-5ee3-4265-df75-7f352fbcba6f"
      },
      "outputs": [
        {
          "output_type": "stream",
          "name": "stdout",
          "text": [
            "{'name': 'John Doe', 'items': ['bootleg DVDs', 'pallet of spoiled pickles', 'a quizzically large amount of mayonaise'], 'discount': True, 'price': 73.21}\n"
          ]
        }
      ],
      "source": [
        "#si-receipt\n",
        "\n",
        "receipt = {\n",
        "    'name' : 'John Doe',\n",
        "    'items' : ['bootleg DVDs', 'pallet of spoiled pickles', 'a quizzically large amount of mayonaise'],\n",
        "    'discount' : True,\n",
        "    'price' : 73.21\n",
        "}\n",
        "print(receipt)"
      ]
    }
  ],
  "metadata": {
    "kernelspec": {
      "display_name": "Python 3 (ipykernel)",
      "language": "python",
      "name": "python3"
    },
    "language_info": {
      "codemirror_mode": {
        "name": "ipython",
        "version": 3
      },
      "file_extension": ".py",
      "mimetype": "text/x-python",
      "name": "python",
      "nbconvert_exporter": "python",
      "pygments_lexer": "ipython3",
      "version": "3.9.13"
    },
    "colab": {
      "provenance": []
    }
  },
  "nbformat": 4,
  "nbformat_minor": 5
}